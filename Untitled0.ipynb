{
  "nbformat": 4,
  "nbformat_minor": 0,
  "metadata": {
    "colab": {
      "provenance": [],
      "include_colab_link": true
    },
    "kernelspec": {
      "name": "python3",
      "display_name": "Python 3"
    },
    "language_info": {
      "name": "python"
    }
  },
  "cells": [
    {
      "cell_type": "markdown",
      "metadata": {
        "id": "view-in-github",
        "colab_type": "text"
      },
      "source": [
        "<a href=\"https://colab.research.google.com/github/Khushika/Climate/blob/main/Untitled0.ipynb\" target=\"_parent\"><img src=\"https://colab.research.google.com/assets/colab-badge.svg\" alt=\"Open In Colab\"/></a>"
      ]
    },
    {
      "cell_type": "code",
      "execution_count": null,
      "metadata": {
        "id": "6YANSNDi46Oy"
      },
      "outputs": [],
      "source": [
        "import numpy as np\n",
        "import pandas as pd\n",
        "import statsmodels.api as sm\n",
        "import seaborn as sns\n",
        "import matplotlib.pyplot as plt\n",
        "from sklearn.preprocessing import scale, StandardScaler\n",
        "from sklearn.model_selection import train_test_split, GridSearchCV, cross_val_score\n",
        "from sklearn.metrics import confusion_matrix, accuracy_score, mean_squared_error, r2_score, roc_auc_score, roc_curve, classification_report\n",
        "from sklearn.linear_model import LogisticRegression\n",
        "from sklearn.neighbors import KNeighborsClassifier\n",
        "from sklearn.svm import SVC\n",
        "from sklearn.neural_network import MLPClassifier\n",
        "from sklearn.tree import DecisionTreeClassifier\n",
        "from sklearn.ensemble import RandomForestClassifier\n",
        "from sklearn.ensemble import GradientBoostingClassifier\n",
        "from lightgbm import LGBMClassifier\n",
        "from sklearn.model_selection import KFold\n",
        "import warnings\n",
        "warnings.simplefilter(action = \"ignore\")\n",
        "from sklearn.model_selection import train_test_split\n",
        "from sklearn import svm\n",
        "from sklearn.metrics import accuracy_score\n",
        "\n"
      ]
    },
    {
      "cell_type": "code",
      "source": [
        "df=pd.read_csv(\"/diab.csv\")\n",
        "#print(df[\"Outcome\"].value_counts()*100/len(df))\n",
        "#print(df.Outcome.value_counts())\n",
        "#print(\"Max Age: \",str(df[\"Age\"].max()))\n",
        "#print(\"Min Age: \",str(df[\"Age\"].min()))\n",
        "#print(df[\"Age\"].hist(edgecolor=\"Black\"))\n",
        "scale=StandardScaler()\n",
        "scale.fit(df)\n",
        "x=scale.transform(df)\n",
        "#print(x)\n",
        "y=df[\"Outcome\"]\n",
        "#print(y)\n",
        "XTrain,XTest,YTrain,YTest=train_test_split(x,y,test_size=0.2,stratify=y,random_state=2)\n",
        "classify=svm.SVC(kernel=\"linear\")\n",
        "classify.fit(XTrain,YTrain)\n",
        "XTrainPrediction=classify.predict(XTrain)\n",
        "TrainAccuracy=accuracy_score(XTrainPrediction,YTrain)\n",
        "print(\"Accuracy Score of the Training Data: \",TrainAccuracy)\n",
        "\n",
        "XTestPrediction=classify.predict(XTest)\n",
        "TestAccuracy=accuracy_score(XTestPrediction,YTest)\n",
        "print(\"Accuracy Score of the Test Data: \",TestAccuracy)"
      ],
      "metadata": {
        "colab": {
          "base_uri": "https://localhost:8080/"
        },
        "id": "cxbFf1Nc5sBK",
        "outputId": "1db12269-844f-4f31-ef76-a1593ce80ce1"
      },
      "execution_count": null,
      "outputs": [
        {
          "output_type": "stream",
          "name": "stdout",
          "text": [
            "Accuracy Score of the Training Data:  1.0\n",
            "Accuracy Score of the Test Data:  1.0\n"
          ]
        }
      ]
    },
    {
      "cell_type": "code",
      "source": [
        "print(df.shape)\n",
        "print(df.info())"
      ],
      "metadata": {
        "colab": {
          "base_uri": "https://localhost:8080/"
        },
        "id": "LIVsgzXD3fAP",
        "outputId": "5340d0ea-a907-407c-9fea-c774b43d26c1"
      },
      "execution_count": null,
      "outputs": [
        {
          "output_type": "stream",
          "name": "stdout",
          "text": [
            "(760, 9)\n",
            "<class 'pandas.core.frame.DataFrame'>\n",
            "Int64Index: 760 entries, 0 to 767\n",
            "Data columns (total 9 columns):\n",
            " #   Column                    Non-Null Count  Dtype  \n",
            "---  ------                    --------------  -----  \n",
            " 0   Pregnancies               760 non-null    int64  \n",
            " 1   Glucose                   760 non-null    float64\n",
            " 2   BloodPressure             760 non-null    float64\n",
            " 3   SkinThickness             760 non-null    float64\n",
            " 4   Insulin                   760 non-null    float64\n",
            " 5   BMI                       760 non-null    float64\n",
            " 6   DiabetesPedigreeFunction  760 non-null    float64\n",
            " 7   Age                       760 non-null    int64  \n",
            " 8   Outcome                   760 non-null    int64  \n",
            "dtypes: float64(6), int64(3)\n",
            "memory usage: 59.4 KB\n",
            "None\n"
          ]
        }
      ]
    },
    {
      "cell_type": "code",
      "source": [
        "df[['Glucose','BloodPressure','SkinThickness','Insulin','BMI']] = df[['Glucose','BloodPressure','SkinThickness','Insulin','BMI']].replace(0,np.NaN)"
      ],
      "metadata": {
        "id": "PkorRhln6ISn"
      },
      "execution_count": null,
      "outputs": []
    },
    {
      "cell_type": "code",
      "source": [
        "df.describe()"
      ],
      "metadata": {
        "colab": {
          "base_uri": "https://localhost:8080/",
          "height": 300
        },
        "id": "O_3uMnjv3X2Z",
        "outputId": "0c8544fe-be80-4147-f53e-985e283e51a4"
      },
      "execution_count": null,
      "outputs": [
        {
          "output_type": "execute_result",
          "data": {
            "text/plain": [
              "       Pregnancies     Glucose  BloodPressure  SkinThickness     Insulin  \\\n",
              "count   760.000000  760.000000     760.000000     760.000000  760.000000   \n",
              "mean      3.861842  121.318421      72.369737      28.923684  139.673684   \n",
              "std       3.370900   30.121076      11.908805       8.453046   80.433436   \n",
              "min       0.000000   44.000000      24.000000       7.000000   15.000000   \n",
              "25%       1.000000   99.750000      64.000000      25.000000  102.500000   \n",
              "50%       3.000000  117.000000      72.000000      28.000000  102.500000   \n",
              "75%       6.000000  140.000000      80.000000      32.000000  169.500000   \n",
              "max      17.000000  199.000000     114.000000      60.000000  600.000000   \n",
              "\n",
              "              BMI  DiabetesPedigreeFunction         Age     Outcome  \n",
              "count  760.000000                760.000000  760.000000  760.000000  \n",
              "mean    32.359605                  0.467222   33.151316    0.347368  \n",
              "std      6.742324                  0.318202   11.594351    0.476448  \n",
              "min     18.200000                  0.078000   21.000000    0.000000  \n",
              "25%     27.500000                  0.242500   24.000000    0.000000  \n",
              "50%     32.000000                  0.369000   29.000000    0.000000  \n",
              "75%     36.500000                  0.626250   41.000000    1.000000  \n",
              "max     67.100000                  2.288000   72.000000    1.000000  "
            ],
            "text/html": [
              "\n",
              "  <div id=\"df-9eb31917-96b2-40f1-b14b-c5ffe6725184\">\n",
              "    <div class=\"colab-df-container\">\n",
              "      <div>\n",
              "<style scoped>\n",
              "    .dataframe tbody tr th:only-of-type {\n",
              "        vertical-align: middle;\n",
              "    }\n",
              "\n",
              "    .dataframe tbody tr th {\n",
              "        vertical-align: top;\n",
              "    }\n",
              "\n",
              "    .dataframe thead th {\n",
              "        text-align: right;\n",
              "    }\n",
              "</style>\n",
              "<table border=\"1\" class=\"dataframe\">\n",
              "  <thead>\n",
              "    <tr style=\"text-align: right;\">\n",
              "      <th></th>\n",
              "      <th>Pregnancies</th>\n",
              "      <th>Glucose</th>\n",
              "      <th>BloodPressure</th>\n",
              "      <th>SkinThickness</th>\n",
              "      <th>Insulin</th>\n",
              "      <th>BMI</th>\n",
              "      <th>DiabetesPedigreeFunction</th>\n",
              "      <th>Age</th>\n",
              "      <th>Outcome</th>\n",
              "    </tr>\n",
              "  </thead>\n",
              "  <tbody>\n",
              "    <tr>\n",
              "      <th>count</th>\n",
              "      <td>760.000000</td>\n",
              "      <td>760.000000</td>\n",
              "      <td>760.000000</td>\n",
              "      <td>760.000000</td>\n",
              "      <td>760.000000</td>\n",
              "      <td>760.000000</td>\n",
              "      <td>760.000000</td>\n",
              "      <td>760.000000</td>\n",
              "      <td>760.000000</td>\n",
              "    </tr>\n",
              "    <tr>\n",
              "      <th>mean</th>\n",
              "      <td>3.861842</td>\n",
              "      <td>121.318421</td>\n",
              "      <td>72.369737</td>\n",
              "      <td>28.923684</td>\n",
              "      <td>139.673684</td>\n",
              "      <td>32.359605</td>\n",
              "      <td>0.467222</td>\n",
              "      <td>33.151316</td>\n",
              "      <td>0.347368</td>\n",
              "    </tr>\n",
              "    <tr>\n",
              "      <th>std</th>\n",
              "      <td>3.370900</td>\n",
              "      <td>30.121076</td>\n",
              "      <td>11.908805</td>\n",
              "      <td>8.453046</td>\n",
              "      <td>80.433436</td>\n",
              "      <td>6.742324</td>\n",
              "      <td>0.318202</td>\n",
              "      <td>11.594351</td>\n",
              "      <td>0.476448</td>\n",
              "    </tr>\n",
              "    <tr>\n",
              "      <th>min</th>\n",
              "      <td>0.000000</td>\n",
              "      <td>44.000000</td>\n",
              "      <td>24.000000</td>\n",
              "      <td>7.000000</td>\n",
              "      <td>15.000000</td>\n",
              "      <td>18.200000</td>\n",
              "      <td>0.078000</td>\n",
              "      <td>21.000000</td>\n",
              "      <td>0.000000</td>\n",
              "    </tr>\n",
              "    <tr>\n",
              "      <th>25%</th>\n",
              "      <td>1.000000</td>\n",
              "      <td>99.750000</td>\n",
              "      <td>64.000000</td>\n",
              "      <td>25.000000</td>\n",
              "      <td>102.500000</td>\n",
              "      <td>27.500000</td>\n",
              "      <td>0.242500</td>\n",
              "      <td>24.000000</td>\n",
              "      <td>0.000000</td>\n",
              "    </tr>\n",
              "    <tr>\n",
              "      <th>50%</th>\n",
              "      <td>3.000000</td>\n",
              "      <td>117.000000</td>\n",
              "      <td>72.000000</td>\n",
              "      <td>28.000000</td>\n",
              "      <td>102.500000</td>\n",
              "      <td>32.000000</td>\n",
              "      <td>0.369000</td>\n",
              "      <td>29.000000</td>\n",
              "      <td>0.000000</td>\n",
              "    </tr>\n",
              "    <tr>\n",
              "      <th>75%</th>\n",
              "      <td>6.000000</td>\n",
              "      <td>140.000000</td>\n",
              "      <td>80.000000</td>\n",
              "      <td>32.000000</td>\n",
              "      <td>169.500000</td>\n",
              "      <td>36.500000</td>\n",
              "      <td>0.626250</td>\n",
              "      <td>41.000000</td>\n",
              "      <td>1.000000</td>\n",
              "    </tr>\n",
              "    <tr>\n",
              "      <th>max</th>\n",
              "      <td>17.000000</td>\n",
              "      <td>199.000000</td>\n",
              "      <td>114.000000</td>\n",
              "      <td>60.000000</td>\n",
              "      <td>600.000000</td>\n",
              "      <td>67.100000</td>\n",
              "      <td>2.288000</td>\n",
              "      <td>72.000000</td>\n",
              "      <td>1.000000</td>\n",
              "    </tr>\n",
              "  </tbody>\n",
              "</table>\n",
              "</div>\n",
              "      <button class=\"colab-df-convert\" onclick=\"convertToInteractive('df-9eb31917-96b2-40f1-b14b-c5ffe6725184')\"\n",
              "              title=\"Convert this dataframe to an interactive table.\"\n",
              "              style=\"display:none;\">\n",
              "        \n",
              "  <svg xmlns=\"http://www.w3.org/2000/svg\" height=\"24px\"viewBox=\"0 0 24 24\"\n",
              "       width=\"24px\">\n",
              "    <path d=\"M0 0h24v24H0V0z\" fill=\"none\"/>\n",
              "    <path d=\"M18.56 5.44l.94 2.06.94-2.06 2.06-.94-2.06-.94-.94-2.06-.94 2.06-2.06.94zm-11 1L8.5 8.5l.94-2.06 2.06-.94-2.06-.94L8.5 2.5l-.94 2.06-2.06.94zm10 10l.94 2.06.94-2.06 2.06-.94-2.06-.94-.94-2.06-.94 2.06-2.06.94z\"/><path d=\"M17.41 7.96l-1.37-1.37c-.4-.4-.92-.59-1.43-.59-.52 0-1.04.2-1.43.59L10.3 9.45l-7.72 7.72c-.78.78-.78 2.05 0 2.83L4 21.41c.39.39.9.59 1.41.59.51 0 1.02-.2 1.41-.59l7.78-7.78 2.81-2.81c.8-.78.8-2.07 0-2.86zM5.41 20L4 18.59l7.72-7.72 1.47 1.35L5.41 20z\"/>\n",
              "  </svg>\n",
              "      </button>\n",
              "      \n",
              "  <style>\n",
              "    .colab-df-container {\n",
              "      display:flex;\n",
              "      flex-wrap:wrap;\n",
              "      gap: 12px;\n",
              "    }\n",
              "\n",
              "    .colab-df-convert {\n",
              "      background-color: #E8F0FE;\n",
              "      border: none;\n",
              "      border-radius: 50%;\n",
              "      cursor: pointer;\n",
              "      display: none;\n",
              "      fill: #1967D2;\n",
              "      height: 32px;\n",
              "      padding: 0 0 0 0;\n",
              "      width: 32px;\n",
              "    }\n",
              "\n",
              "    .colab-df-convert:hover {\n",
              "      background-color: #E2EBFA;\n",
              "      box-shadow: 0px 1px 2px rgba(60, 64, 67, 0.3), 0px 1px 3px 1px rgba(60, 64, 67, 0.15);\n",
              "      fill: #174EA6;\n",
              "    }\n",
              "\n",
              "    [theme=dark] .colab-df-convert {\n",
              "      background-color: #3B4455;\n",
              "      fill: #D2E3FC;\n",
              "    }\n",
              "\n",
              "    [theme=dark] .colab-df-convert:hover {\n",
              "      background-color: #434B5C;\n",
              "      box-shadow: 0px 1px 3px 1px rgba(0, 0, 0, 0.15);\n",
              "      filter: drop-shadow(0px 1px 2px rgba(0, 0, 0, 0.3));\n",
              "      fill: #FFFFFF;\n",
              "    }\n",
              "  </style>\n",
              "\n",
              "      <script>\n",
              "        const buttonEl =\n",
              "          document.querySelector('#df-9eb31917-96b2-40f1-b14b-c5ffe6725184 button.colab-df-convert');\n",
              "        buttonEl.style.display =\n",
              "          google.colab.kernel.accessAllowed ? 'block' : 'none';\n",
              "\n",
              "        async function convertToInteractive(key) {\n",
              "          const element = document.querySelector('#df-9eb31917-96b2-40f1-b14b-c5ffe6725184');\n",
              "          const dataTable =\n",
              "            await google.colab.kernel.invokeFunction('convertToInteractive',\n",
              "                                                     [key], {});\n",
              "          if (!dataTable) return;\n",
              "\n",
              "          const docLinkHtml = 'Like what you see? Visit the ' +\n",
              "            '<a target=\"_blank\" href=https://colab.research.google.com/notebooks/data_table.ipynb>data table notebook</a>'\n",
              "            + ' to learn more about interactive tables.';\n",
              "          element.innerHTML = '';\n",
              "          dataTable['output_type'] = 'display_data';\n",
              "          await google.colab.output.renderOutput(dataTable, element);\n",
              "          const docLink = document.createElement('div');\n",
              "          docLink.innerHTML = docLinkHtml;\n",
              "          element.appendChild(docLink);\n",
              "        }\n",
              "      </script>\n",
              "    </div>\n",
              "  </div>\n",
              "  "
            ]
          },
          "metadata": {},
          "execution_count": 329
        }
      ]
    },
    {
      "cell_type": "code",
      "source": [
        "def median_target(var):\n",
        "    temp = df[df[var].notnull()]\n",
        "    temp = temp[[var, 'Outcome']].groupby(['Outcome'])[[var]].median().reset_index()\n",
        "    return temp\n",
        "columns = df.columns\n",
        "columns = columns.drop(\"Outcome\")\n",
        "for i in columns:\n",
        "    median_target(i)\n",
        "    df.loc[(df['Outcome'] == 0 ) & (df[i].isnull()), i] = median_target(i)[i][0]\n",
        "    df.loc[(df['Outcome'] == 1 ) & (df[i].isnull()), i] = median_target(i)[i][1]\n",
        "print(df.head())"
      ],
      "metadata": {
        "colab": {
          "base_uri": "https://localhost:8080/"
        },
        "id": "cDcyTuuy6bDG",
        "outputId": "ddddd0b8-63fb-41cb-d72a-64cd9a16628f"
      },
      "execution_count": null,
      "outputs": [
        {
          "output_type": "stream",
          "name": "stdout",
          "text": [
            "   Pregnancies  Glucose  BloodPressure  SkinThickness  Insulin   BMI  \\\n",
            "0            6    148.0           72.0           35.0    169.5  33.6   \n",
            "1            1     85.0           66.0           29.0    102.5  26.6   \n",
            "2            8    183.0           64.0           32.0    169.5  23.3   \n",
            "3            1     89.0           66.0           23.0     94.0  28.1   \n",
            "4            0    137.0           40.0           35.0    168.0  43.1   \n",
            "\n",
            "   DiabetesPedigreeFunction  Age  Outcome  \n",
            "0                     0.627   50        1  \n",
            "1                     0.351   31        0  \n",
            "2                     0.672   32        1  \n",
            "3                     0.167   21        0  \n",
            "4                     2.288   33        1  \n"
          ]
        }
      ]
    },
    {
      "cell_type": "code",
      "source": [
        "df.isnull().sum()\n"
      ],
      "metadata": {
        "colab": {
          "base_uri": "https://localhost:8080/"
        },
        "id": "FXfxjf4T-3gU",
        "outputId": "6a22ca0b-044e-44bc-9a11-400ca4ca7a84"
      },
      "execution_count": null,
      "outputs": [
        {
          "output_type": "execute_result",
          "data": {
            "text/plain": [
              "Pregnancies                 0\n",
              "Glucose                     0\n",
              "BloodPressure               0\n",
              "SkinThickness               0\n",
              "Insulin                     0\n",
              "BMI                         0\n",
              "DiabetesPedigreeFunction    0\n",
              "Age                         0\n",
              "Outcome                     0\n",
              "dtype: int64"
            ]
          },
          "metadata": {},
          "execution_count": 318
        }
      ]
    },
    {
      "cell_type": "code",
      "source": [
        "for feature in df:\n",
        "\n",
        "    Q1 = df[feature].quantile(0.25)\n",
        "    Q3 = df[feature].quantile(0.75)\n",
        "    IQR = Q3-Q1\n",
        "    lower = Q1- 1.5*IQR\n",
        "    upper = Q3 + 1.5*IQR\n",
        "\n",
        "    if df[(df[feature] > upper)].any(axis=None):\n",
        "        print(feature,\"yes\")\n",
        "    else:\n",
        "        print(feature, \"no\")"
      ],
      "metadata": {
        "colab": {
          "base_uri": "https://localhost:8080/"
        },
        "id": "Teupxm35CnNi",
        "outputId": "88fdf6bb-0084-4f85-dedf-b7406399b09b"
      },
      "execution_count": null,
      "outputs": [
        {
          "output_type": "stream",
          "name": "stdout",
          "text": [
            "Pregnancies yes\n",
            "Glucose no\n",
            "BloodPressure yes\n",
            "SkinThickness yes\n",
            "Insulin yes\n",
            "BMI yes\n",
            "DiabetesPedigreeFunction yes\n",
            "Age yes\n",
            "Outcome no\n"
          ]
        }
      ]
    },
    {
      "cell_type": "code",
      "source": [
        "from sklearn.neighbors import LocalOutlierFactor\n",
        "lof =LocalOutlierFactor(n_neighbors= 10)\n",
        "print(lof.fit_predict(df))\n",
        "df_scores = lof.negative_outlier_factor_\n",
        "np.sort(df_scores)[0:30]\n",
        "threshold = np.sort(df_scores)[7]\n",
        "print(threshold)\n",
        "outlier = df_scores > threshold\n",
        "df = df[outlier]\n",
        "print(df.shape)\n"
      ],
      "metadata": {
        "colab": {
          "base_uri": "https://localhost:8080/"
        },
        "id": "j5GPck_6DdBZ",
        "outputId": "e6d3fe99-bfe9-4cd7-96aa-9f7dcdd2822b"
      },
      "execution_count": null,
      "outputs": [
        {
          "output_type": "stream",
          "name": "stdout",
          "text": [
            "[ 1  1  1  1  1  1  1  1  1  1  1  1  1 -1  1  1  1  1 -1  1  1  1  1  1\n",
            "  1  1  1  1  1  1  1  1  1  1  1  1  1  1  1  1  1  1  1  1  1  1  1  1\n",
            "  1  1  1  1  1  1  1  1  1 -1  1  1  1  1 -1  1  1  1  1  1  1  1  1  1\n",
            "  1  1  1  1  1  1  1  1  1  1  1  1  1  1  1  1  1  1  1  1  1  1  1  1\n",
            "  1  1  1  1  1  1  1  1  1  1 -1  1  1  1  1  1  1  1  1  1  1  1  1  1\n",
            " -1  1  1  1  1 -1  1  1  1  1  1  1  1  1  1  1  1  1  1  1  1  1  1  1\n",
            "  1  1  1  1  1  1  1  1  1  1  1  1  1  1  1  1  1  1  1  1  1  1  1  1\n",
            "  1  1  1  1  1  1  1  1  1 -1  1  1  1  1  1  1  1  1  1  1  1  1  1  1\n",
            "  1  1  1  1  1  1  1  1  1  1  1  1  1  1  1  1  1  1  1  1  1  1  1  1\n",
            "  1  1  1  1  1  1  1 -1  1  1  1  1 -1  1  1  1  1  1  1  1  1  1  1  1\n",
            "  1  1  1  1  1  1  1 -1  1  1 -1  1  1  1  1  1  1  1  1  1  1  1  1  1\n",
            "  1  1  1  1  1  1  1  1  1  1  1  1  1  1  1  1  1  1  1  1  1  1  1  1\n",
            "  1  1  1  1  1  1  1  1  1  1  1  1  1  1  1  1  1  1  1  1  1  1  1  1\n",
            "  1  1  1  1  1  1  1  1  1  1  1 -1  1  1  1  1  1  1  1  1  1  1  1  1\n",
            "  1  1  1  1  1  1  1  1  1  1 -1  1  1  1  1  1  1  1  1  1  1  1  1  1\n",
            "  1  1 -1  1  1  1  1  1  1  1  1  1  1  1  1  1  1  1  1  1  1  1  1  1\n",
            "  1  1  1  1  1  1  1  1  1 -1  1  1 -1  1  1  1  1  1  1  1  1  1  1  1\n",
            "  1  1  1  1  1  1  1  1  1  1  1  1  1  1  1  1  1  1  1  1  1  1  1  1\n",
            "  1  1  1  1  1  1  1  1  1  1  1  1  1 -1  1  1  1  1  1  1  1  1  1  1\n",
            "  1  1  1 -1 -1  1  1  1  1  1  1  1  1  1  1  1  1  1  1  1  1  1  1  1\n",
            "  1  1  1 -1  1  1  1  1  1  1  1  1  1  1  1  1  1  1  1  1  1  1  1  1\n",
            "  1  1  1  1  1  1  1  1  1  1  1  1  1  1  1  1  1  1  1  1  1  1  1  1\n",
            "  1  1  1  1  1  1  1  1  1 -1  1  1  1  1  1  1  1  1  1  1 -1  1  1  1\n",
            "  1  1  1  1  1  1  1  1  1  1  1  1  1  1  1 -1  1  1  1  1  1  1  1  1\n",
            "  1  1  1 -1  1  1  1  1  1  1  1  1  1  1  1  1  1  1  1  1  1 -1  1  1\n",
            "  1  1  1  1  1  1  1  1  1  1  1  1  1  1  1  1  1  1  1  1  1  1  1  1\n",
            "  1  1  1  1  1  1  1  1  1  1  1  1  1  1  1  1  1  1  1  1  1  1  1  1\n",
            "  1  1  1  1  1  1  1  1  1  1  1  1  1  1  1  1  1  1  1  1 -1  1  1  1\n",
            " -1  1  1  1  1  1  1  1  1  1  1  1  1  1  1  1  1  1  1  1  1  1  1  1\n",
            "  1  1  1  1  1  1  1  1  1  1  1  1  1  1  1 -1  1  1  1  1  1  1  1  1\n",
            "  1  1  1  1  1  1  1  1  1  1  1  1  1  1  1  1  1  1  1  1  1  1  1  1\n",
            "  1  1  1  1  1  1  1  1  1  1  1  1  1  1  1  1  1  1  1  1  1  1  1  1]\n",
            "-2.0109625157063844\n",
            "(760, 9)\n"
          ]
        }
      ]
    },
    {
      "cell_type": "code",
      "source": [
        "sns.boxplot(x=df[\"Insulin\"])"
      ],
      "metadata": {
        "colab": {
          "base_uri": "https://localhost:8080/",
          "height": 296
        },
        "id": "stuKqEEwFJt_",
        "outputId": "79c4c747-7137-4fb2-c404-26f71d60f7bc"
      },
      "execution_count": null,
      "outputs": [
        {
          "output_type": "execute_result",
          "data": {
            "text/plain": [
              "<Axes: xlabel='Insulin'>"
            ]
          },
          "metadata": {},
          "execution_count": 321
        },
        {
          "output_type": "display_data",
          "data": {
            "text/plain": [
              "<Figure size 432x288 with 1 Axes>"
            ],
            "image/png": "[encoded data removed]"
          },
          "metadata": {
            "needs_background": "light"
          }
        }
      ]
    },
    {
      "cell_type": "code",
      "source": [
        "x=df.drop(columns='Outcome',axis=1)\n",
        "y=df[\"Outcome\"]\n",
        "print(x)"
      ],
      "metadata": {
        "colab": {
          "base_uri": "https://localhost:8080/"
        },
        "id": "kthzgPE1Hhen",
        "outputId": "e224b097-8fc2-4d96-e439-20190d4afdc9"
      },
      "execution_count": null,
      "outputs": [
        {
          "output_type": "stream",
          "name": "stdout",
          "text": [
            "     Pregnancies  Glucose  BloodPressure  SkinThickness  Insulin   BMI  \\\n",
            "0              6    148.0           72.0           35.0    169.5  33.6   \n",
            "1              1     85.0           66.0           29.0    102.5  26.6   \n",
            "2              8    183.0           64.0           32.0    169.5  23.3   \n",
            "3              1     89.0           66.0           23.0     94.0  28.1   \n",
            "4              0    137.0           40.0           35.0    168.0  43.1   \n",
            "..           ...      ...            ...            ...      ...   ...   \n",
            "763           10    101.0           76.0           48.0    180.0  32.9   \n",
            "764            2    122.0           70.0           27.0    102.5  36.8   \n",
            "765            5    121.0           72.0           23.0    112.0  26.2   \n",
            "766            1    126.0           60.0           32.0    169.5  30.1   \n",
            "767            1     93.0           70.0           31.0    102.5  30.4   \n",
            "\n",
            "     DiabetesPedigreeFunction  Age  \n",
            "0                       0.627   50  \n",
            "1                       0.351   31  \n",
            "2                       0.672   32  \n",
            "3                       0.167   21  \n",
            "4                       2.288   33  \n",
            "..                        ...  ...  \n",
            "763                     0.171   63  \n",
            "764                     0.340   27  \n",
            "765                     0.245   30  \n",
            "766                     0.349   47  \n",
            "767                     0.315   23  \n",
            "\n",
            "[760 rows x 8 columns]\n"
          ]
        }
      ]
    },
    {
      "cell_type": "code",
      "source": [
        "scale=StandardScaler()\n",
        "scale.fit(x)\n",
        "x=scale.transform(x)\n",
        "print(x)\n",
        "y=df[\"Outcome\"]\n",
        "print(y)"
      ],
      "metadata": {
        "colab": {
          "base_uri": "https://localhost:8080/"
        },
        "id": "l9gPw-DOHp22",
        "outputId": "86553586-6a48-484d-c6d3-d11d1d0f1acc"
      },
      "execution_count": null,
      "outputs": [
        {
          "output_type": "stream",
          "name": "stdout",
          "text": [
            "[[ 0.63471648  0.88639429 -0.0310678  ...  0.18409255  0.50245705\n",
            "   1.45413739]\n",
            " [-0.84954359 -1.20654182 -0.53522848 ... -0.85480885 -0.36548763\n",
            "  -0.1856708 ]\n",
            " [ 1.2284205   2.04913657 -0.70328204 ... -1.34457665  0.64396977\n",
            "  -0.09936511]\n",
            " ...\n",
            " [ 0.33786446 -0.01057833 -0.0310678  ... -0.91417465 -0.6988287\n",
            "  -0.2719765 ]\n",
            " [-0.84954359  0.15552771 -1.03938916 ... -0.33535815 -0.37177709\n",
            "   1.19522031]\n",
            " [-0.84954359 -0.94077216 -0.19912136 ... -0.29083381 -0.47869781\n",
            "  -0.87611636]]\n",
            "0      1\n",
            "1      0\n",
            "2      1\n",
            "3      0\n",
            "4      1\n",
            "      ..\n",
            "763    0\n",
            "764    0\n",
            "765    0\n",
            "766    1\n",
            "767    0\n",
            "Name: Outcome, Length: 760, dtype: int64\n"
          ]
        }
      ]
    },
    {
      "cell_type": "code",
      "source": [
        "XTrain,XTest,YTrain,YTest=train_test_split(x,y,test_size=0.3,stratify=y,random_state=2)\n",
        "print(\"Shape of Dataset : \",x.shape)\n",
        "print(\"Shape of Training Dataset : \",XTrain.shape,\" Percentage: \",XTrain.shape[0]*100/x.shape[0],\"%\")\n",
        "print(\"Shape of Testing Dataset : \",XTest.shape,\" Percentage: \",XTest.shape[0]*100/x.shape[0],\"%\")\n"
      ],
      "metadata": {
        "colab": {
          "base_uri": "https://localhost:8080/"
        },
        "id": "UGZwedmALvM-",
        "outputId": "3b66d246-f9b3-4840-aa7f-bb2dd3342d24"
      },
      "execution_count": null,
      "outputs": [
        {
          "output_type": "stream",
          "name": "stdout",
          "text": [
            "Shape of Dataset :  (760, 8)\n",
            "Shape of Training Dataset :  (532, 8)  Percentage:  70.0 %\n",
            "Shape of Testing Dataset :  (228, 8)  Percentage:  30.0 %\n"
          ]
        }
      ]
    },
    {
      "cell_type": "code",
      "source": [
        "classify=svm.SVC(kernel=\"linear\")\n",
        "classify.fit(XTrain,YTrain)\n",
        "XTrainPrediction=classify.predict(XTrain)\n",
        "TrainAccuracy=accuracy_score(XTrainPrediction,YTrain)\n",
        "print(\"Accuracy Score of the Training Data: \",TrainAccuracy)\n",
        "\n",
        "XTestPrediction=classify.predict(XTest)\n",
        "TestAccuracy=accuracy_score(XTestPrediction,YTest)\n",
        "print(\"Accuracy Score of the Test Data: \",TestAccuracy)\n"
      ],
      "metadata": {
        "colab": {
          "base_uri": "https://localhost:8080/"
        },
        "id": "oe-rb0WplA2V",
        "outputId": "065b4a37-6fda-455a-9fa3-a4230c307a39"
      },
      "execution_count": null,
      "outputs": [
        {
          "output_type": "stream",
          "name": "stdout",
          "text": [
            "Accuracy Score of the Training Data:  0.8026315789473685\n",
            "Accuracy Score of the Test Data:  0.8201754385964912\n"
          ]
        }
      ]
    },
    {
      "cell_type": "code",
      "source": [
        "a=int(input(\"Enter Pregnancies: \"))\n",
        "b=int(input(\"Enter Glucose Level: \"))\n",
        "c=int(input(\"Enter Blood Pressure: \"))\n",
        "d=int(input(\"Enter Skin Thickness: \"))\n",
        "e=int(input(\"Enter Insulin Level: \"))\n",
        "f=float(input(\"Enter BMI: \"))\n",
        "g=float(input(\"Enter Diabetes Pedigree Function: \"))\n",
        "h=int(input(\"Enter Age: \"))\n",
        "\n",
        "i=(a,b,c,d,e,f,g,h)\n",
        "\n",
        "nparray=np.asarray(i)\n",
        "reshapedArray=nparray.reshape(1,-1)\n",
        "\n",
        "stdData=scale.transform(reshapedArray)\n",
        "predict=classify.predict(stdData)\n",
        "\n",
        "if predict[0]==0:\n",
        "  print(\"Person is Non-Diabetic\")\n",
        "else:\n",
        "  print(\"Person is Diabetic\")\n"
      ],
      "metadata": {
        "colab": {
          "base_uri": "https://localhost:8080/"
        },
        "id": "UzrW8l0zsR-Z",
        "outputId": "2b049602-7146-4b15-d2b0-655ff8f08c3e"
      },
      "execution_count": null,
      "outputs": [
        {
          "output_type": "stream",
          "name": "stdout",
          "text": [
            "Enter Pregnancies: 0\n",
            "Enter Glucose Level: 137\n",
            "Enter Blood Pressure: 40\n",
            "Enter Skin Thickness: 35\n",
            "Enter Insulin Level: 168\n",
            "Enter BMI: 43.1\n",
            "Enter Diabetes Pedigree Function: 2.28\n",
            "Enter Age: 33\n",
            "Person is Diabetic\n"
          ]
        }
      ]
    }
  ]
}